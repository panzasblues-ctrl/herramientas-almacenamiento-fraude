{
 "cells": [
  {
   "cell_type": "markdown",
   "id": "b785ff44-4e1d-4220-8c47-2836e09c8a36",
   "metadata": {},
   "source": [
    "# Detección de Fraudes en Transacciones Financieras\n",
    "\n",
    "**Materia**: Herramientas para el Almacenamiento de Grandes Volúmenes  \n",
    "**Estudiante**: Daniel Cureño Martínez  \n",
    "**Semestre**: 5to  \n",
    "**Fecha**: 24 de septiembre de 2025\n",
    "\n",
    "## Objetivo\n",
    "Identificar transacciones potencialmente fraudulentas aplicando reglas de negocio predefinidas, independientemente de la divisa."
   ]
  },
  {
   "cell_type": "code",
   "execution_count": 9,
   "id": "a2f1ea42-0ae5-479e-a0a9-5741a40e7cc4",
   "metadata": {},
   "outputs": [],
   "source": [
    "import pandas as pd\n",
    "import matplotlib.pyplot as plt\n",
    "import seaborn as sns\n",
    "\n",
    "plt.style.use('seaborn-v0_8')\n",
    "sns.set_palette(\"Set2\")\n",
    "pd.set_option('display.max_columns', None)"
   ]
  },
  {
   "cell_type": "markdown",
   "id": "99c291fc-d3e4-4f34-96b6-7ebc769a5043",
   "metadata": {},
   "source": [
    "## Carga de datos"
   ]
  },
  {
   "cell_type": "code",
   "execution_count": 3,
   "id": "dd5d5cae-bb5d-4d89-8c81-71e73a3865e6",
   "metadata": {},
   "outputs": [
    {
     "data": {
      "text/html": [
       "<div>\n",
       "<style scoped>\n",
       "    .dataframe tbody tr th:only-of-type {\n",
       "        vertical-align: middle;\n",
       "    }\n",
       "\n",
       "    .dataframe tbody tr th {\n",
       "        vertical-align: top;\n",
       "    }\n",
       "\n",
       "    .dataframe thead th {\n",
       "        text-align: right;\n",
       "    }\n",
       "</style>\n",
       "<table border=\"1\" class=\"dataframe\">\n",
       "  <thead>\n",
       "    <tr style=\"text-align: right;\">\n",
       "      <th></th>\n",
       "      <th>id_transaccion</th>\n",
       "      <th>id_cliente</th>\n",
       "      <th>nombre_cliente</th>\n",
       "      <th>cuenta_origen</th>\n",
       "      <th>fecha</th>\n",
       "      <th>monto</th>\n",
       "      <th>divisa</th>\n",
       "      <th>tipo_transaccion</th>\n",
       "      <th>ciudad</th>\n",
       "      <th>cuenta_destino</th>\n",
       "      <th>categoria_comercio</th>\n",
       "    </tr>\n",
       "  </thead>\n",
       "  <tbody>\n",
       "    <tr>\n",
       "      <th>0</th>\n",
       "      <td>1</td>\n",
       "      <td>2783</td>\n",
       "      <td>Philip Knight</td>\n",
       "      <td>ES72380307822087479772</td>\n",
       "      <td>13/09/2025</td>\n",
       "      <td>31551.32</td>\n",
       "      <td>USD</td>\n",
       "      <td>transferencia</td>\n",
       "      <td>Queretaro</td>\n",
       "      <td>ES19946920183191759474</td>\n",
       "      <td>NaN</td>\n",
       "    </tr>\n",
       "    <tr>\n",
       "      <th>1</th>\n",
       "      <td>2</td>\n",
       "      <td>3696</td>\n",
       "      <td>William Harmon</td>\n",
       "      <td>ES74956814146097211403</td>\n",
       "      <td>16/09/2025</td>\n",
       "      <td>36889.11</td>\n",
       "      <td>MXN</td>\n",
       "      <td>retiro</td>\n",
       "      <td>Juarez</td>\n",
       "      <td>NaN</td>\n",
       "      <td>NaN</td>\n",
       "    </tr>\n",
       "    <tr>\n",
       "      <th>2</th>\n",
       "      <td>3</td>\n",
       "      <td>6403</td>\n",
       "      <td>Amanda Lewis</td>\n",
       "      <td>ES94278160534459740595</td>\n",
       "      <td>04/07/2025</td>\n",
       "      <td>30644.10</td>\n",
       "      <td>MXN</td>\n",
       "      <td>retiro</td>\n",
       "      <td>Paris</td>\n",
       "      <td>NaN</td>\n",
       "      <td>NaN</td>\n",
       "    </tr>\n",
       "    <tr>\n",
       "      <th>3</th>\n",
       "      <td>4</td>\n",
       "      <td>1156</td>\n",
       "      <td>Victoria Burton</td>\n",
       "      <td>ES18259905541180196560</td>\n",
       "      <td>06/09/2025</td>\n",
       "      <td>7869.29</td>\n",
       "      <td>USD</td>\n",
       "      <td>retiro</td>\n",
       "      <td>Juarez</td>\n",
       "      <td>NaN</td>\n",
       "      <td>NaN</td>\n",
       "    </tr>\n",
       "    <tr>\n",
       "      <th>4</th>\n",
       "      <td>5</td>\n",
       "      <td>2653</td>\n",
       "      <td>Todd Young</td>\n",
       "      <td>ES59522414203568104424</td>\n",
       "      <td>03/04/2025</td>\n",
       "      <td>37940.37</td>\n",
       "      <td>MXN</td>\n",
       "      <td>retiro</td>\n",
       "      <td>Puebla</td>\n",
       "      <td>NaN</td>\n",
       "      <td>NaN</td>\n",
       "    </tr>\n",
       "  </tbody>\n",
       "</table>\n",
       "</div>"
      ],
      "text/plain": [
       "   id_transaccion  id_cliente   nombre_cliente           cuenta_origen  \\\n",
       "0               1        2783    Philip Knight  ES72380307822087479772   \n",
       "1               2        3696   William Harmon  ES74956814146097211403   \n",
       "2               3        6403     Amanda Lewis  ES94278160534459740595   \n",
       "3               4        1156  Victoria Burton  ES18259905541180196560   \n",
       "4               5        2653       Todd Young  ES59522414203568104424   \n",
       "\n",
       "        fecha     monto divisa tipo_transaccion     ciudad  \\\n",
       "0  13/09/2025  31551.32    USD    transferencia  Queretaro   \n",
       "1  16/09/2025  36889.11    MXN           retiro     Juarez   \n",
       "2  04/07/2025  30644.10    MXN           retiro      Paris   \n",
       "3  06/09/2025   7869.29    USD           retiro     Juarez   \n",
       "4  03/04/2025  37940.37    MXN           retiro     Puebla   \n",
       "\n",
       "           cuenta_destino categoria_comercio  \n",
       "0  ES19946920183191759474                NaN  \n",
       "1                     NaN                NaN  \n",
       "2                     NaN                NaN  \n",
       "3                     NaN                NaN  \n",
       "4                     NaN                NaN  "
      ]
     },
     "execution_count": 3,
     "metadata": {},
     "output_type": "execute_result"
    }
   ],
   "source": [
    "df = pd.read_csv('transacciones_simuladas.csv')\n",
    "df.head()"
   ]
  },
  {
   "cell_type": "markdown",
   "id": "afec898c-f5ab-4c40-be50-0aa723c793bb",
   "metadata": {},
   "source": [
    "## Preprocesamiento\n",
    "- Conversión de la columna `monto` a tipo numérico.\n",
    "- Definición de ciudades mexicanas para identificar operaciones en el extranjero.\n",
    "- Creación de la bandera `es_extranjera`."
   ]
  },
  {
   "cell_type": "code",
   "execution_count": 10,
   "id": "07909786-7b50-4aaa-8306-f4d93222c392",
   "metadata": {},
   "outputs": [
    {
     "name": "stdout",
     "output_type": "stream",
     "text": [
      "Ciudades extranjeras detectadas: ['Paris' 'Madrid' 'Brasil' 'Barcelona' 'Los Angeles' 'Sidney' 'London'\n",
      " 'Bogota' 'Boston' 'New York' 'Buenos Aires' 'Montreal' 'Israel' 'Cali'\n",
      " 'India' 'China' 'Nigeria' 'Ucrania' 'New york' 'Peru' 'Libia' 'Texas'\n",
      " 'Milan' 'Moscu']\n"
     ]
    }
   ],
   "source": [
    "df['monto'] = pd.to_numeric(df['monto'], errors='coerce')\n",
    "\n",
    "ciudades_mexicanas = {\n",
    "    'Queretaro', 'Juarez', 'Monterrey', 'Puebla', 'Merida',\n",
    "    'Leon', 'Torreon', 'CDMX', 'Guadalajara', 'Tijuana',\n",
    "    'Hermosillo', 'Cancun', 'Veracruz', 'Oaxaca', 'Chihuahua'\n",
    "}\n",
    "\n",
    "df['es_extranjera'] = ~df['ciudad'].isin(ciudades_mexicanas)\n",
    "\n",
    "print(\"Ciudades extranjeras detectadas:\", df[df['es_extranjera']]['ciudad'].unique())"
   ]
  },
  {
   "cell_type": "markdown",
   "id": "0651a095-204e-47df-af70-287f07344c2a",
   "metadata": {},
   "source": [
    "## Aplicación de reglas de fraude\n",
    "\n",
    "Se implementan las 4 reglas del enunciado:\n",
    "\n",
    "1. **Regla 1**: `monto > 45000`  \n",
    "2. **Regla 2**: `retiro` en ciudad extranjera y `monto > 25000`  \n",
    "3. **Regla 3**: `transferencia` y (`monto > 30000` **o** ciudad extranjera)  \n",
    "4. **Regla 4**: `compra` en categoría `\"viajes\"` y `monto > 35000`"
   ]
  },
  {
   "cell_type": "code",
   "execution_count": 11,
   "id": "61ab4087-5bf1-426d-b92e-dd6a1857d001",
   "metadata": {},
   "outputs": [
    {
     "name": "stdout",
     "output_type": "stream",
     "text": [
      "✅ Total de fraudes detectados: 2075\n"
     ]
    }
   ],
   "source": [
    "regla1 = df['monto'] > 45000\n",
    "regla2 = (df['tipo_transaccion'] == 'retiro') & df['es_extranjera'] & (df['monto'] > 25000)\n",
    "regla3 = (df['tipo_transaccion'] == 'transferencia') & ((df['monto'] > 30000) | df['es_extranjera'])\n",
    "regla4 = (df['tipo_transaccion'] == 'compra') & (df['categoria_comercio'] == 'viajes') & (df['monto'] > 35000)\n",
    "\n",
    "df['es_fraude'] = regla1 | regla2 | regla3 | regla4\n",
    "\n",
    "total_fraudes = df['es_fraude'].sum()\n",
    "print(f\"✅ Total de fraudes detectados: {total_fraudes}\")"
   ]
  },
  {
   "cell_type": "markdown",
   "id": "a5c7ff1e-b7f1-4772-bab8-feccf682eec6",
   "metadata": {},
   "source": [
    "## Visualización: Fraudes por tipo de transacción"
   ]
  },
  {
   "cell_type": "code",
   "execution_count": 12,
   "id": "da5fb8aa-8b95-4e03-8738-0f62511f570b",
   "metadata": {},
   "outputs": [
    {
     "data": {
      "image/png": "[encoded data removed]",
      "text/plain": [
       "<Figure size 800x500 with 1 Axes>"
      ]
     },
     "metadata": {},
     "output_type": "display_data"
    }
   ],
   "source": [
    "fraudes = df[df['es_fraude']]\n",
    "\n",
    "plt.figure(figsize=(8, 5))\n",
    "sns.countplot(data=fraudes, x='tipo_transaccion', palette='viridis')\n",
    "plt.title('Fraudes por tipo de transacción', fontsize=14)\n",
    "plt.xlabel('Tipo de transacción')\n",
    "plt.ylabel('Cantidad')\n",
    "plt.tight_layout()\n",
    "plt.show()"
   ]
  },
  {
   "cell_type": "markdown",
   "id": "4cdd5038-e362-4b3a-a189-c23b6ad32b6c",
   "metadata": {},
   "source": [
    "## Resultados: Transacciones fraudulentas\n",
    "Se muestran las primeras y últimas filas del conjunto de fraudes detectados."
   ]
  },
  {
   "cell_type": "code",
   "execution_count": 13,
   "id": "7ca02c03-1ed1-4363-a75e-2cf4a4915065",
   "metadata": {},
   "outputs": [
    {
     "data": {
      "text/html": [
       "<div>\n",
       "<style scoped>\n",
       "    .dataframe tbody tr th:only-of-type {\n",
       "        vertical-align: middle;\n",
       "    }\n",
       "\n",
       "    .dataframe tbody tr th {\n",
       "        vertical-align: top;\n",
       "    }\n",
       "\n",
       "    .dataframe thead th {\n",
       "        text-align: right;\n",
       "    }\n",
       "</style>\n",
       "<table border=\"1\" class=\"dataframe\">\n",
       "  <thead>\n",
       "    <tr style=\"text-align: right;\">\n",
       "      <th></th>\n",
       "      <th>id_transaccion</th>\n",
       "      <th>monto</th>\n",
       "      <th>tipo_transaccion</th>\n",
       "      <th>ciudad</th>\n",
       "      <th>categoria_comercio</th>\n",
       "    </tr>\n",
       "  </thead>\n",
       "  <tbody>\n",
       "    <tr>\n",
       "      <th>0</th>\n",
       "      <td>1</td>\n",
       "      <td>31551.32</td>\n",
       "      <td>transferencia</td>\n",
       "      <td>Queretaro</td>\n",
       "      <td>NaN</td>\n",
       "    </tr>\n",
       "    <tr>\n",
       "      <th>2</th>\n",
       "      <td>3</td>\n",
       "      <td>30644.10</td>\n",
       "      <td>retiro</td>\n",
       "      <td>Paris</td>\n",
       "      <td>NaN</td>\n",
       "    </tr>\n",
       "    <tr>\n",
       "      <th>8</th>\n",
       "      <td>9</td>\n",
       "      <td>41811.10</td>\n",
       "      <td>transferencia</td>\n",
       "      <td>Merida</td>\n",
       "      <td>NaN</td>\n",
       "    </tr>\n",
       "    <tr>\n",
       "      <th>9</th>\n",
       "      <td>10</td>\n",
       "      <td>37271.83</td>\n",
       "      <td>transferencia</td>\n",
       "      <td>Puebla</td>\n",
       "      <td>NaN</td>\n",
       "    </tr>\n",
       "    <tr>\n",
       "      <th>11</th>\n",
       "      <td>12</td>\n",
       "      <td>35360.16</td>\n",
       "      <td>transferencia</td>\n",
       "      <td>Leon</td>\n",
       "      <td>NaN</td>\n",
       "    </tr>\n",
       "    <tr>\n",
       "      <th>12</th>\n",
       "      <td>13</td>\n",
       "      <td>48471.27</td>\n",
       "      <td>transferencia</td>\n",
       "      <td>Monterrey</td>\n",
       "      <td>NaN</td>\n",
       "    </tr>\n",
       "    <tr>\n",
       "      <th>13</th>\n",
       "      <td>14</td>\n",
       "      <td>48485.84</td>\n",
       "      <td>compra</td>\n",
       "      <td>Queretaro</td>\n",
       "      <td>restaurante</td>\n",
       "    </tr>\n",
       "    <tr>\n",
       "      <th>18</th>\n",
       "      <td>19</td>\n",
       "      <td>49904.69</td>\n",
       "      <td>retiro</td>\n",
       "      <td>Torreon</td>\n",
       "      <td>NaN</td>\n",
       "    </tr>\n",
       "    <tr>\n",
       "      <th>20</th>\n",
       "      <td>21</td>\n",
       "      <td>49727.53</td>\n",
       "      <td>retiro</td>\n",
       "      <td>Tijuana</td>\n",
       "      <td>NaN</td>\n",
       "    </tr>\n",
       "    <tr>\n",
       "      <th>29</th>\n",
       "      <td>30</td>\n",
       "      <td>39122.25</td>\n",
       "      <td>transferencia</td>\n",
       "      <td>Queretaro</td>\n",
       "      <td>NaN</td>\n",
       "    </tr>\n",
       "  </tbody>\n",
       "</table>\n",
       "</div>"
      ],
      "text/plain": [
       "    id_transaccion     monto tipo_transaccion     ciudad categoria_comercio\n",
       "0                1  31551.32    transferencia  Queretaro                NaN\n",
       "2                3  30644.10           retiro      Paris                NaN\n",
       "8                9  41811.10    transferencia     Merida                NaN\n",
       "9               10  37271.83    transferencia     Puebla                NaN\n",
       "11              12  35360.16    transferencia       Leon                NaN\n",
       "12              13  48471.27    transferencia  Monterrey                NaN\n",
       "13              14  48485.84           compra  Queretaro        restaurante\n",
       "18              19  49904.69           retiro    Torreon                NaN\n",
       "20              21  49727.53           retiro    Tijuana                NaN\n",
       "29              30  39122.25    transferencia  Queretaro                NaN"
      ]
     },
     "execution_count": 13,
     "metadata": {},
     "output_type": "execute_result"
    }
   ],
   "source": [
    "fraudes[['id_transaccion', 'monto', 'tipo_transaccion', 'ciudad', 'categoria_comercio']].head(10)"
   ]
  },
  {
   "cell_type": "markdown",
   "id": "cdfc3844-984e-4f1e-aa91-c6ba14d2574a",
   "metadata": {},
   "source": [
    "## Análisis por regla de detección\n",
    "\n",
    "A continuación, se muestra cuántos fraudes activó cada regla (una transacción puede activar más de una)."
   ]
  },
  {
   "cell_type": "code",
   "execution_count": 14,
   "id": "9a927619-cfeb-48a3-9477-582b7f8992d8",
   "metadata": {},
   "outputs": [
    {
     "name": "stdout",
     "output_type": "stream",
     "text": [
      "Regla 1 (monto > 45,000): 990\n",
      "Regla 2 (retiro en extranjero >25k): 10\n",
      "Regla 3 (transferencia en extranjero o >30k): 1301\n",
      "Regla 4 (compra en 'viajes' >35k): 158\n"
     ]
    }
   ],
   "source": [
    "print(f\"Regla 1 (monto > 45,000): {regla1.sum()}\")\n",
    "print(f\"Regla 2 (retiro en extranjero >25k): {regla2.sum()}\")\n",
    "print(f\"Regla 3 (transferencia en extranjero o >30k): {regla3.sum()}\")\n",
    "print(f\"Regla 4 (compra en 'viajes' >35k): {regla4.sum()}\")"
   ]
  },
  {
   "cell_type": "markdown",
   "id": "61c0a06e-cb28-4f3d-a1e7-c1e7545ff5d7",
   "metadata": {},
   "source": [
    "## Conclusiones\n",
    "\n",
    "- Se detectaron **2,075 transacciones fraudulentas**, la mayoría activadas por la **Regla 3**.\n",
    "- La **Regla 3** marca como fraudulenta **cualquier transferencia realizada desde una ciudad extranjera**, incluso con montos bajos. Esto explica el alto número de detecciones, ya que hay muchas transferencias internacionales en el dataset.\n",
    "- **No se encontraron transacciones** en la categoría `\"viajes\"`, por lo que la Regla 4 no se activó.\n",
    "- El enfoque basado en reglas es útil para escenarios conocidos, pero en la práctica se recomendaría **ajustar los umbrales** o **combinar con modelos predictivos** para reducir falsos positivos.\n",
    "\n",
    "> ✅ Este análisis demuestra comprensión tanto técnica como crítica de las reglas de negocio."
   ]
  },
  {
   "cell_type": "code",
   "execution_count": null,
   "id": "5de50dcb-3e95-4343-be4a-6e3d79b318db",
   "metadata": {},
   "outputs": [],
   "source": []
  }
 ],
 "metadata": {
  "kernelspec": {
   "display_name": "Python [conda env:base] *",
   "language": "python",
   "name": "conda-base-py"
  },
  "language_info": {
   "codemirror_mode": {
    "name": "ipython",
    "version": 3
   },
   "file_extension": ".py",
   "mimetype": "text/x-python",
   "name": "python",
   "nbconvert_exporter": "python",
   "pygments_lexer": "ipython3",
   "version": "3.11.7"
  }
 },
 "nbformat": 4,
 "nbformat_minor": 5
}
